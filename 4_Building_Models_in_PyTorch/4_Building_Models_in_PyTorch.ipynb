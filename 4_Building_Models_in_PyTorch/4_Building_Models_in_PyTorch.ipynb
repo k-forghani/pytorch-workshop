{
 "cells": [
  {
   "cell_type": "markdown",
   "metadata": {},
   "source": [
    "# Building Models in PyTorch\n",
    "\n",
    "\n",
    "## `torch.nn.Module` and `torch.nn.Parameter`\n",
    "\n",
    "In this video, we'll be discussing some of the tools PyTorch makes available for building deep learning networks.\n",
    "\n",
    "Except for `Parameter`, the classes we discuss in this video are all subclasses of `torch.nn.Module`. This is the PyTorch base class meant to encapsulate behaviors specific to PyTorch Models and their components.\n",
    "\n",
    "One important behavior of `torch.nn.Module` is registering parameters. If a particular `Module` subclass has learning weights, these weights are expressed as instances of `torch.nn.Parameter`. The `Parameter` class is a subclass of `torch.Tensor`, with the special behavior that when they are assigned as attributes of a `Module`, they are added to the list of that modules parameters. These parameters may be accessed through the `parameters()` method on the `Module` class.\n",
    "\n",
    "As a simple example, here's a very simple model with two linear layers and an activation function. We'll create an instance of it and ask it to report on its parameters:"
   ]
  },
  {
   "cell_type": "code",
   "execution_count": 1,
   "metadata": {},
   "outputs": [
    {
     "name": "stdout",
     "output_type": "stream",
     "text": [
      "The model:\n",
      "TinyModel(\n",
      "  (linear1): Linear(in_features=100, out_features=200, bias=True)\n",
      "  (activation): ReLU()\n",
      "  (linear2): Linear(in_features=200, out_features=10, bias=True)\n",
      "  (softmax): Softmax(dim=None)\n",
      ")\n",
      "\n",
      "\n",
      "Just one layer:\n",
      "Linear(in_features=200, out_features=10, bias=True)\n",
      "\n",
      "\n",
      "Model params:\n",
      "Parameter containing:\n",
      "tensor([[ 0.0591,  0.0104, -0.0444,  ..., -0.0618,  0.0276, -0.0895],\n",
      "        [-0.0742,  0.0929,  0.0539,  ..., -0.0854,  0.0366,  0.0867],\n",
      "        [-0.0968, -0.0498,  0.0777,  ..., -0.0681, -0.0362, -0.0266],\n",
      "        ...,\n",
      "        [-0.0971,  0.0441, -0.0561,  ...,  0.0519, -0.0413,  0.0217],\n",
      "        [-0.0674, -0.0662,  0.0406,  ...,  0.0191,  0.0115, -0.0487],\n",
      "        [-0.0265, -0.0009,  0.0038,  ..., -0.0582, -0.0327, -0.0391]],\n",
      "       requires_grad=True)\n",
      "Parameter containing:\n",
      "tensor([-9.0713e-02, -9.5879e-02, -5.6868e-02, -9.3512e-02,  5.1538e-02,\n",
      "         2.6804e-02,  5.6627e-02,  4.4909e-02, -1.2966e-02,  4.5800e-02,\n",
      "         7.6999e-02,  8.0824e-02, -6.8592e-02,  5.0919e-03,  9.7047e-02,\n",
      "        -2.3127e-02, -4.4710e-02,  5.4288e-02, -6.9149e-02,  7.6472e-02,\n",
      "        -6.8463e-02,  6.6729e-02,  9.9376e-03, -8.1429e-03, -6.8417e-02,\n",
      "         4.4900e-02,  9.8872e-02,  5.6837e-02, -1.2148e-02, -3.5638e-02,\n",
      "         9.9086e-02, -3.7485e-02,  3.7509e-02, -4.6322e-02,  1.9703e-03,\n",
      "         1.4918e-02, -3.4115e-02,  2.6972e-02,  3.4977e-02, -3.3883e-03,\n",
      "         6.6090e-03, -7.8841e-02,  2.2479e-02, -3.8067e-02,  7.5335e-02,\n",
      "        -2.9220e-02, -4.5359e-02,  1.5511e-02, -1.6762e-02, -5.7991e-02,\n",
      "         5.6285e-02,  2.7458e-02, -7.9178e-02, -5.5775e-02, -3.6427e-02,\n",
      "         4.1938e-02,  1.7077e-02, -3.9877e-02, -5.9588e-02, -2.8392e-02,\n",
      "        -3.8625e-02,  2.0724e-03, -1.1091e-02, -4.7571e-02,  8.8068e-02,\n",
      "         3.4961e-02, -8.7753e-02,  5.7523e-02, -2.7610e-02, -8.2004e-05,\n",
      "         5.6621e-03,  3.1449e-03, -6.3686e-02,  1.8618e-02,  9.3734e-02,\n",
      "         4.6331e-02,  9.6871e-02,  4.2686e-03,  2.5064e-02, -7.8487e-03,\n",
      "         6.1412e-02,  7.6690e-02,  5.0549e-02, -4.5072e-02,  8.4109e-02,\n",
      "         4.0755e-02,  9.5624e-02, -6.1504e-02,  5.6362e-02,  9.4759e-02,\n",
      "         6.7425e-02, -1.6352e-02, -1.8042e-02,  8.4449e-03,  1.9774e-02,\n",
      "         4.6229e-02, -5.8352e-02, -5.4233e-02,  1.8776e-02,  2.8787e-02,\n",
      "        -3.5883e-02,  2.6935e-03,  4.3017e-02, -2.4524e-02, -7.9140e-02,\n",
      "         6.7691e-02, -3.0589e-02, -3.9338e-02,  2.7603e-02,  2.8180e-02,\n",
      "        -7.5825e-02,  2.7349e-02,  9.1070e-02, -4.2123e-02, -2.1092e-02,\n",
      "         3.1572e-02, -6.2725e-02,  5.6957e-04,  8.8942e-02, -5.8720e-02,\n",
      "         8.3276e-02, -5.2428e-03, -1.1713e-02, -4.8858e-02, -3.3551e-02,\n",
      "         4.3560e-02, -3.1703e-02, -4.6551e-02,  4.9884e-02, -7.4975e-02,\n",
      "        -9.5862e-02,  4.3539e-02, -6.6741e-02, -3.5522e-02, -3.5159e-02,\n",
      "         7.4544e-03, -3.3781e-02, -5.5084e-02,  5.7501e-02,  1.8316e-02,\n",
      "         4.3691e-02,  8.4678e-02, -7.6666e-02, -4.8029e-02,  3.4181e-02,\n",
      "        -5.2908e-02,  2.9049e-02,  5.7310e-03, -1.6980e-04,  7.8047e-02,\n",
      "         7.4599e-02, -7.1781e-03, -5.9151e-02, -3.9904e-02,  2.9110e-02,\n",
      "        -6.5202e-02, -2.6823e-02, -3.7260e-02,  5.8954e-02, -6.1994e-02,\n",
      "         4.8607e-02, -7.9738e-02, -6.1019e-02, -6.0438e-03, -6.2087e-02,\n",
      "         4.1525e-02, -4.3415e-02,  3.6342e-03,  9.9494e-02, -1.1989e-02,\n",
      "        -7.4555e-02, -4.0826e-02, -8.3129e-02, -1.0852e-02, -2.0320e-02,\n",
      "        -8.4735e-02, -5.6471e-03, -7.5340e-02, -8.7740e-02, -8.7574e-02,\n",
      "         6.3446e-02, -1.3254e-02,  4.0411e-02, -2.4040e-02,  3.0646e-02,\n",
      "         5.4265e-02, -3.6423e-03, -8.4896e-02,  8.6203e-02,  3.8039e-02,\n",
      "        -4.3859e-02, -1.0540e-02, -9.6725e-02, -5.8914e-02,  2.8905e-03,\n",
      "         2.7588e-02, -6.4114e-02, -8.5691e-02, -1.6703e-02,  9.0788e-02],\n",
      "       requires_grad=True)\n",
      "Parameter containing:\n",
      "tensor([[-0.0225,  0.0059,  0.0062,  ...,  0.0280, -0.0196, -0.0301],\n",
      "        [ 0.0169, -0.0123, -0.0322,  ...,  0.0460,  0.0282, -0.0376],\n",
      "        [-0.0249,  0.0483, -0.0522,  ...,  0.0158,  0.0226,  0.0231],\n",
      "        ...,\n",
      "        [ 0.0142,  0.0312,  0.0541,  ..., -0.0207,  0.0506,  0.0217],\n",
      "        [ 0.0018, -0.0145, -0.0648,  ..., -0.0584,  0.0522,  0.0486],\n",
      "        [ 0.0474,  0.0126,  0.0065,  ..., -0.0512,  0.0344, -0.0094]],\n",
      "       requires_grad=True)\n",
      "Parameter containing:\n",
      "tensor([-0.0358, -0.0684,  0.0577,  0.0543, -0.0433,  0.0050, -0.0304, -0.0049,\n",
      "        -0.0156, -0.0410], requires_grad=True)\n",
      "\n",
      "\n",
      "Layer params:\n",
      "Parameter containing:\n",
      "tensor([[-0.0225,  0.0059,  0.0062,  ...,  0.0280, -0.0196, -0.0301],\n",
      "        [ 0.0169, -0.0123, -0.0322,  ...,  0.0460,  0.0282, -0.0376],\n",
      "        [-0.0249,  0.0483, -0.0522,  ...,  0.0158,  0.0226,  0.0231],\n",
      "        ...,\n",
      "        [ 0.0142,  0.0312,  0.0541,  ..., -0.0207,  0.0506,  0.0217],\n",
      "        [ 0.0018, -0.0145, -0.0648,  ..., -0.0584,  0.0522,  0.0486],\n",
      "        [ 0.0474,  0.0126,  0.0065,  ..., -0.0512,  0.0344, -0.0094]],\n",
      "       requires_grad=True)\n",
      "Parameter containing:\n",
      "tensor([-0.0358, -0.0684,  0.0577,  0.0543, -0.0433,  0.0050, -0.0304, -0.0049,\n",
      "        -0.0156, -0.0410], requires_grad=True)\n"
     ]
    }
   ],
   "source": [
    "import torch\n",
    "\n",
    "class TinyModel(torch.nn.Module):\n",
    "    \n",
    "    def __init__(self):\n",
    "        super(TinyModel, self).__init__()\n",
    "        \n",
    "        self.linear1 = torch.nn.Linear(100, 200)\n",
    "        self.activation = torch.nn.ReLU()\n",
    "        self.linear2 = torch.nn.Linear(200, 10)\n",
    "        self.softmax = torch.nn.Softmax()\n",
    "    \n",
    "    def forward(self, x):\n",
    "        x = self.linear1(x)\n",
    "        x = self.activation(x)\n",
    "        x = self.linear2(x)\n",
    "        x = self.softmax(x)\n",
    "        return x\n",
    "\n",
    "tinymodel = TinyModel()\n",
    "\n",
    "print('The model:')\n",
    "print(tinymodel)\n",
    "\n",
    "print('\\n\\nJust one layer:')\n",
    "print(tinymodel.linear2)\n",
    "\n",
    "print('\\n\\nModel params:')\n",
    "for param in tinymodel.parameters():\n",
    "    print(param)\n",
    "\n",
    "print('\\n\\nLayer params:')\n",
    "for param in tinymodel.linear2.parameters():\n",
    "    print(param)"
   ]
  },
  {
   "cell_type": "markdown",
   "metadata": {},
   "source": [
    "This shows the fundamental structure of a PyTorch model: there is an `__init__()` method that defines the layers and other components of a model, and a `forward()` method where the computation gets done. Note that we can print the model, or any of its submodules, to learn about its structure.\n",
    "\n",
    "## Common Layer Types\n",
    "\n",
    "### Linear Layers\n",
    "\n",
    "The most basic type of neural network layer is a *linear* or *fully connected* layer. This is a layer where every input influences every output of the layer to a degree specified by the layer's weights. If a model has *m* inputs and *n* outputs, the weights will be an *m * n* matrix. For example:"
   ]
  },
  {
   "cell_type": "code",
   "execution_count": 2,
   "metadata": {},
   "outputs": [
    {
     "name": "stdout",
     "output_type": "stream",
     "text": [
      "Input:\n",
      "tensor([[0.2083, 0.0756, 0.5170]])\n",
      "\n",
      "\n",
      "Weight and Bias parameters:\n",
      "Parameter containing:\n",
      "tensor([[ 0.3500,  0.2865, -0.0856],\n",
      "        [-0.5390,  0.4409,  0.0588]], requires_grad=True)\n",
      "Parameter containing:\n",
      "tensor([0.1044, 0.0699], requires_grad=True)\n",
      "\n",
      "\n",
      "Output:\n",
      "tensor([[0.1547, 0.0214]], grad_fn=<AddmmBackward0>)\n"
     ]
    }
   ],
   "source": [
    "lin = torch.nn.Linear(3, 2)\n",
    "x = torch.rand(1, 3)\n",
    "print('Input:')\n",
    "print(x)\n",
    "\n",
    "print('\\n\\nWeight and Bias parameters:')\n",
    "for param in lin.parameters():\n",
    "    print(param)\n",
    "\n",
    "y = lin(x)\n",
    "print('\\n\\nOutput:')\n",
    "print(y)"
   ]
  },
  {
   "cell_type": "markdown",
   "metadata": {},
   "source": [
    "If you do the matrix multiplication of `x` by the linear layer's weights, and add the biases, you'll find that you get the output vector `y`.\n",
    "\n",
    "One other important feature to note: When we checked the weights of our layer with `lin.weight`, it reported itself as a `Parameter` (which is a subclass of `Tensor`), and let us know that it's tracking gradients with autograd. This is a default behavior for `Parameter` that differs from `Tensor`.\n",
    "\n",
    "Linear layers are used widely in deep learning models. One of the most common places you'll see them is in classifier models, which will usually have one or more linear layers at the end, where the last layer will have *n* outputs, where *n* is the number of classes the classifier addresses.\n",
    "\n",
    "### Convolutional Layers\n",
    "\n",
    "*Convolutional* layers are built to handle data with a high degree of spatial correlation. They are very commonly used in computer vision, where they detect close groupings of features which the compose into higher-level features. They pop up in other contexts too - for example, in NLP applications, where the a word's immediate context (that is, the other words nearby in the sequence) can affect the meaning of a sentence.\n",
    "\n",
    "We saw convolutional layers in action in LeNet5 in an earlier video:"
   ]
  },
  {
   "cell_type": "code",
   "execution_count": 4,
   "metadata": {},
   "outputs": [],
   "source": [
    "import torch.functional as F\n",
    "\n",
    "\n",
    "class LeNet(torch.nn.Module):\n",
    "\n",
    "    def __init__(self):\n",
    "        super(LeNet, self).__init__()\n",
    "        # 1 input image channel (black & white), 6 output channels, 3x3 square convolution\n",
    "        # kernel\n",
    "        self.conv1 = torch.nn.Conv2d(1, 6, 5)\n",
    "        self.conv2 = torch.nn.Conv2d(6, 16, 3)\n",
    "        # an affine operation: y = Wx + b\n",
    "        self.fc1 = torch.nn.Linear(16 * 6 * 6, 120)  # 6*6 from image dimension\n",
    "        self.fc2 = torch.nn.Linear(120, 84)\n",
    "        self.fc3 = torch.nn.Linear(84, 10)\n",
    "\n",
    "    def forward(self, x):\n",
    "        # Max pooling over a (2, 2) window\n",
    "        x = F.max_pool2d(F.relu(self.conv1(x)), (2, 2))\n",
    "        # If the size is a square you can only specify a single number\n",
    "        x = F.max_pool2d(F.relu(self.conv2(x)), 2)\n",
    "        x = x.view(-1, self.num_flat_features(x))\n",
    "        x = F.relu(self.fc1(x))\n",
    "        x = F.relu(self.fc2(x))\n",
    "        x = self.fc3(x)\n",
    "        return x\n",
    "\n",
    "    def num_flat_features(self, x):\n",
    "        size = x.size()[1:]  # all dimensions except the batch dimension\n",
    "        num_features = 1\n",
    "        for s in size:\n",
    "            num_features *= s\n",
    "        return num_features"
   ]
  },
  {
   "cell_type": "markdown",
   "metadata": {},
   "source": [
    "Let's break down what's happening in the convolutional layers of this model. Starting with `conv1`:\n",
    "\n",
    "* LeNet5 is meant to take in a 1x32x32 black & white image. **The first argument to a convolutional layer's constructor is the number of input channels.** Here, it is 1. If we were building this model to look at 3-color channels, it would be 3.\n",
    "* A convolutional layer is like a window that scans over the image, looking for a pattern it recognizes. These patterns are called *features,* and one of the parameters of a convolutional layer is the number of features we would like it to learn. **This is the second argument to the constructor is the number of output features.** Here, we're asking our layer to learn 6 features.\n",
    "* Just above, I likened the convolutional layer to a window - but how big is the window? **The third argument is the window or *kernel* size.** Here, the \"5\" means we've chosen a 5x5 kernel. (If you want a kernel with height different from width, you can specify a tuple for this argument - e.g., `(3, 5)` to get a 3x5 convolution kernel.)\n",
    "\n",
    "The output of a convolutional layer is an *activation map* - a spatial representation of the presence of features in the input tensor. `conv1` will give us an output tensor of 6x28x28; 6 is the number of features, and 28 is the height and width of our map. (The 28 comes from the fact that when scanning a 5-pixel window over a 32-pixel row, there are only 28 valid positions.)\n",
    "\n",
    "We then pass the output of the convolution through a ReLU activation function (more on activation functions later), then through a max pooling layer. The max pooling layer takes features near each other in the activation map and groups them together. It does this by reducing the tensor, merging every 2x2 group of cells in the output into a single cell, and assigning that cell the maximum value of the 4 cells that went into it. This gives us a lower-resolution version of the activation map, with dimensions 6x14x14.\n",
    "\n",
    "Our next convolutional layer, `conv2`, expects 6 input channels (corresponding to the 6 features sought by the first layer), has 16 output channels, and a 3x3 kernel. It puts out a 16x12x12 activation map, which is again reduced by a max pooling layer to 16x6x6. Prior to passing this output to the linear layers, it is reshaped to a 16 * 6 * 6 = 576-element vector for consumption by the next layer.\n",
    "\n",
    "There are convolutional layers for addressing 1D, 2D, and 3D tensors. There are also many more optional arguments for a conv layer constructor, including stride length(e.g., only scanning every second or every third position) in the input, padding (so you can scan out to the edges of the input), and more. See the [documentation](https://pytorch.org/docs/stable/nn.html#convolution-layers) for more information.\n",
    "\n",
    "### Recurrent Layers\n",
    "\n",
    "*Recurrent neural networks* (or *RNNs)* are used for sequential data - anything from time-series measurements from a scientific instrument to natural language sentences to DNA nucleotides. An RNN does this by maintaining a *hidden state* that acts as a sort of memory for what it has seen in the sequence so far.\n",
    "\n",
    "The internal structure of an RNN layer - or its variants, the LSTM (long short-term memory) and GRU (gated recurrent unit) - is moderately complex and beyond the scope of this video, but we'll show you what one looks like in action with an LSTM-based part-of-speech tagger (a type of classifier that tells you if a word is a noun, verb, etc.):"
   ]
  },
  {
   "cell_type": "code",
   "execution_count": 5,
   "metadata": {},
   "outputs": [],
   "source": [
    "class LSTMTagger(torch.nn.Module):\n",
    "\n",
    "    def __init__(self, embedding_dim, hidden_dim, vocab_size, tagset_size):\n",
    "        super(LSTMTagger, self).__init__()\n",
    "        self.hidden_dim = hidden_dim\n",
    "\n",
    "        self.word_embeddings = torch.nn.Embedding(vocab_size, embedding_dim)\n",
    "\n",
    "        # The LSTM takes word embeddings as inputs, and outputs hidden states\n",
    "        # with dimensionality hidden_dim.\n",
    "        self.lstm = torch.nn.LSTM(embedding_dim, hidden_dim)\n",
    "\n",
    "        # The linear layer that maps from hidden state space to tag space\n",
    "        self.hidden2tag = torch.nn.Linear(hidden_dim, tagset_size)\n",
    "\n",
    "    def forward(self, sentence):\n",
    "        embeds = self.word_embeddings(sentence)\n",
    "        lstm_out, _ = self.lstm(embeds.view(len(sentence), 1, -1))\n",
    "        tag_space = self.hidden2tag(lstm_out.view(len(sentence), -1))\n",
    "        tag_scores = F.log_softmax(tag_space, dim=1)\n",
    "        return tag_scores"
   ]
  },
  {
   "cell_type": "markdown",
   "metadata": {},
   "source": [
    "The constructor has four arguments:\n",
    "\n",
    "* `vocab_size` is the number of words in the input vocabulary. Each word is a one-hot vector (or unit vector) in a `vocab_size`-dimensional space.\n",
    "* `tagset_size` is the number of tags in the output set.\n",
    "* `embedding_dim` is the size of the *embedding* space for the vocabulary. An embedding maps a vocabulary onto a low-dimensional space, where words with similar meanings are close together in the space.\n",
    "* `hidden_dim` is the size of the LSTM's memory.\n",
    "\n",
    "The input will be a sentence with the words represented as indices of of one-hot vectors. The embedding layer will then map these down to an `embedding_dim`-dimensional space. The LSTM takes this sequence of embeddings and iterates over it, fielding an output vector of length `hidden_dim`. The final linear layer acts as a classifier; applying `log_softmax()` to the output of the final layer converts the output into a normalized set of estimated probabilities that a given word maps to a given tag.\n",
    "\n",
    "If you'd like to see this network in action, check out the [Sequence Models and LSTM Networks](https://pytorch.org/tutorials/beginner/nlp/sequence_models_tutorial.html) tutorial on pytorch.org.\n",
    "\n",
    "### Transformers\n",
    "\n",
    "*Transformers* are multi-purpose networks that have taken over the state of the art in NLP with models like BERT. A discussion of transformer architecture is beyond the scope of this video, but PyTorch has a `Transformer` class that allows you to define the overall parameters of a transformer model - the number of attention heads, the number of encoder & decoder layers, dropout and activation functions, etc. (You can even build the BERT model from this single class, with the right parameters!) The `torch.nn.Transformer` class also has classes to encapsulate the individual components (`TransformerEncoder`, `TransformerDecoder`) and subcomponents (`TransformerEncoderLayer`, `TransformerDecoderLayer`). For details, check out the [documentation](https://pytorch.org/docs/stable/nn.html#transformer) on transformer classes, and the relevant [tutorial](https://pytorch.org/tutorials/beginner/transformer_tutorial.html) on pytorch.org.\n",
    "\n",
    "## Other Layers and Functions\n",
    "\n",
    "### Data Manipulation Layers\n",
    "\n",
    "There are other layer types that perform important functions in models, but don't participate in the learning process themselves.\n",
    "\n",
    "**Max pooling** (and its twin, min pooling) reduce a tensor by combining cells, and assigning the maximum value of the input cells to the output cell. (We saw this ) For example:"
   ]
  },
  {
   "cell_type": "code",
   "execution_count": 6,
   "metadata": {},
   "outputs": [
    {
     "name": "stdout",
     "output_type": "stream",
     "text": [
      "tensor([[[0.6939, 0.1668, 0.0986, 0.7961, 0.6902, 0.7866],\n",
      "         [0.9993, 0.1171, 0.4934, 0.0177, 0.9482, 0.2529],\n",
      "         [0.1691, 0.2945, 0.2181, 0.3071, 0.5449, 0.9183],\n",
      "         [0.1238, 0.2750, 0.0703, 0.1142, 0.0225, 0.8617],\n",
      "         [0.5774, 0.4783, 0.6581, 0.8313, 0.7734, 0.4033],\n",
      "         [0.5570, 0.7413, 0.7359, 0.3985, 0.3317, 0.7174]]])\n",
      "tensor([[[0.9993, 0.9482],\n",
      "         [0.7413, 0.8617]]])\n"
     ]
    }
   ],
   "source": [
    "my_tensor = torch.rand(1, 6, 6)\n",
    "print(my_tensor)\n",
    "\n",
    "maxpool_layer = torch.nn.MaxPool2d(3)\n",
    "print(maxpool_layer(my_tensor))"
   ]
  },
  {
   "cell_type": "markdown",
   "metadata": {},
   "source": [
    "If you look closely at the values above, you'll see that each of the values in the maxpooled output is the maximum value of each quadrant of the 6x6 input.\n",
    "\n",
    "**Normalization layers** re-center and normalize the output of one layer before feeding it to another. Centering the and scaling the intermediate tensors has a number of beneficial effects, such as letting you use higher learning rates without exploding/vanishing gradients."
   ]
  },
  {
   "cell_type": "code",
   "execution_count": 7,
   "metadata": {},
   "outputs": [
    {
     "name": "stdout",
     "output_type": "stream",
     "text": [
      "tensor([[[10.1597, 23.7823, 22.8437, 10.6141],\n",
      "         [ 5.4571, 21.2677, 22.8590, 20.5817],\n",
      "         [17.8210, 22.5534, 24.6053, 21.9643],\n",
      "         [ 7.4577,  6.9358, 16.6960, 18.1957]]])\n",
      "tensor(17.1122)\n",
      "tensor([[[-1.0335,  1.0709,  0.9259, -0.9633],\n",
      "         [-1.7200,  0.5304,  0.7569,  0.4328],\n",
      "         [-1.5890,  0.3318,  1.1646,  0.0927],\n",
      "         [-0.9434, -1.0447,  0.8486,  1.1395]]],\n",
      "       grad_fn=<NativeBatchNormBackward0>)\n",
      "tensor(8.9407e-08, grad_fn=<MeanBackward0>)\n"
     ]
    }
   ],
   "source": [
    "my_tensor = torch.rand(1, 4, 4) * 20 + 5\n",
    "print(my_tensor)\n",
    "\n",
    "print(my_tensor.mean())\n",
    "\n",
    "norm_layer = torch.nn.BatchNorm1d(4)\n",
    "normed_tensor = norm_layer(my_tensor)\n",
    "print(normed_tensor)\n",
    "\n",
    "print(normed_tensor.mean())\n"
   ]
  },
  {
   "cell_type": "markdown",
   "metadata": {},
   "source": [
    "Running the cell above, we've added a large scaling factor and offset to an input tensor; you should see the input tensor's `mean()` somewhere in the neighborhood of 15. After running it through the normalization layer, you can see that the values are smaller, and grouped around zero - in fact, the mean should be very small (> 1e-8).\n",
    "\n",
    "This is beneficial because many activation functions (discussed below) have their strongest gradients near 0, but sometimes suffer from vanishing or exploding gradients for inputs that drive them far away from zero. Keeping the data centered around the area of steepest gradient will tend to mean faster, better learning and higher feasible learning rates.\n",
    "\n",
    "**Dropout layers** are a tool for encouraging *sparse representations* in your model - that is, pushing it to do inference with less data.\n",
    "\n",
    "Dropout layers work by randomly setting parts of the input tensor *during training* - dropout layers are always turned off for inference. This forces the model to learn against this masked or reduced dataset. For example:"
   ]
  },
  {
   "cell_type": "code",
   "execution_count": 8,
   "metadata": {},
   "outputs": [
    {
     "name": "stdout",
     "output_type": "stream",
     "text": [
      "tensor([[[0.5134, 0.0000, 0.6105, 0.5254],\n",
      "         [0.6214, 1.1664, 0.0000, 0.0000],\n",
      "         [0.0000, 0.0000, 0.0000, 0.4534],\n",
      "         [1.0965, 1.1431, 0.0881, 0.0000]]])\n",
      "tensor([[[0.0000, 1.3121, 0.6105, 0.5254],\n",
      "         [0.6214, 0.0000, 1.0211, 0.0000],\n",
      "         [1.5842, 1.5634, 1.2713, 0.4534],\n",
      "         [1.0965, 1.1431, 0.0881, 0.2449]]])\n"
     ]
    }
   ],
   "source": [
    "my_tensor = torch.rand(1, 4, 4)\n",
    "\n",
    "dropout = torch.nn.Dropout(p=0.4)\n",
    "print(dropout(my_tensor))\n",
    "print(dropout(my_tensor))"
   ]
  },
  {
   "cell_type": "markdown",
   "metadata": {},
   "source": [
    "Above, you can see the effect of dropout on a sample tensor. You can use the optional `p` argument to set the probability of an individual weight dropping out; if you don't it defaults to 0.5.\n",
    "\n",
    "### Activation Functions\n",
    "\n",
    "Activation functions make deep learning possible. A neural network is really a program - with many parameters - that *simulates a mathematical function*. If all we did was multiple tensors by layer weights repeatedly, we could only simulate *linear functions;* further, there would be no point to having many layers, as the whole network would reduce could be reduced to a single matrix multiplication. Inserting *non-linear* activation functions between layers is what allows a deep learning model to simulate any function, rather than just linear ones.\n",
    "\n",
    "`torch.nn.Module` has objects encapsulating all of the major activation functions including ReLU and its many variants, Tanh, Hardtanh, sigmoid, and more. It also includes other functions, such as Softmax, that are most useful at the output stage of a model.\n",
    "\n",
    "### Loss Functions\n",
    "\n",
    "Loss functions tell us how far a model's prediction is from the correct answer. PyTorch contains a variety of loss functions, including common MSE (mean squared error = L2 norm), Cross Entropy Loss and Negative Likelihood Loss (useful for classifiers), and others."
   ]
  },
  {
   "cell_type": "markdown",
   "metadata": {},
   "source": [
    "## Advanced: Replacing Layers"
   ]
  }
 ],
 "metadata": {
  "kernelspec": {
   "display_name": "Python 3 (ipykernel)",
   "language": "python",
   "name": "python3"
  },
  "language_info": {
   "codemirror_mode": {
    "name": "ipython",
    "version": 3
   },
   "file_extension": ".py",
   "mimetype": "text/x-python",
   "name": "python",
   "nbconvert_exporter": "python",
   "pygments_lexer": "ipython3",
   "version": "3.12.4"
  }
 },
 "nbformat": 4,
 "nbformat_minor": 4
}
